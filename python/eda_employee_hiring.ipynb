{
 "cells": [
  {
   "cell_type": "markdown",
   "metadata": {},
   "source": [
    "# EDA & Pre-Cleaning of Employee Hiring History Dataset"
   ]
  },
  {
   "cell_type": "markdown",
   "metadata": {},
   "source": [
    "## Pulling datasets from the database"
   ]
  },
  {
   "cell_type": "code",
   "execution_count": 137,
   "metadata": {},
   "outputs": [],
   "source": [
    "# to read from My_Sql\n",
    "import mysql.connector \n",
    "import pandas as pd\n",
    "import numpy as np\n",
    "import warnings\n",
    "warnings.filterwarnings('ignore')"
   ]
  },
  {
   "cell_type": "code",
   "execution_count": 138,
   "metadata": {},
   "outputs": [],
   "source": [
    "# to import environment variables\n",
    "from decouple import config, AutoConfig\n",
    "config = AutoConfig(search_path='.env')\n",
    "\n",
    "# To process special symbol in password\n",
    "from urllib.parse import quote_plus"
   ]
  },
  {
   "cell_type": "code",
   "execution_count": 139,
   "metadata": {
    "scrolled": true
   },
   "outputs": [],
   "source": [
    "# Creating conncetion\n",
    "# connection variables\n",
    "# Mysql Credentials\n",
    "\n",
    "host = config(\"HOST_MYSQL\")\n",
    "user = config(\"USER\")\n",
    "password = config(\"PASSWORD\")\n",
    "database = config(\"DATABASE\")"
   ]
  },
  {
   "cell_type": "code",
   "execution_count": 140,
   "metadata": {},
   "outputs": [],
   "source": [
    "conn = mysql.connector.connect(host=host,\n",
    "                              user=user,\n",
    "                              password=password,\n",
    "                              database=database,\n",
    "                              auth_plugin='mysql_native_password')\n",
    "\n",
    "query_e = \"SELECT * FROM raw_employee\"\n",
    "query_b = \"SELECT * FROM raw_bu\"\n",
    "\n",
    "df_raw_emp = pd.read_sql(query_e, conn)\n",
    "df_raw_bu = pd.read_sql(query_b, conn)\n",
    "\n",
    "# commit the query\n",
    "conn.commit()\n",
    "conn.close()"
   ]
  },
  {
   "cell_type": "code",
   "execution_count": 141,
   "metadata": {},
   "outputs": [],
   "source": [
    "# preserving the extracted dataset\n",
    "df_e = df_raw_emp.copy()\n",
    "df_b = df_raw_bu.copy()"
   ]
  },
  {
   "cell_type": "markdown",
   "metadata": {},
   "source": [
    "## EDA - Exploratory Data Analysis"
   ]
  },
  {
   "cell_type": "markdown",
   "metadata": {},
   "source": [
    "### Employee Dataset"
   ]
  },
  {
   "cell_type": "markdown",
   "metadata": {},
   "source": [
    "#### Rows, Columns & Data"
   ]
  },
  {
   "cell_type": "code",
   "execution_count": 142,
   "metadata": {},
   "outputs": [
    {
     "data": {
      "text/plain": [
       "(1290259, 11)"
      ]
     },
     "execution_count": 142,
     "metadata": {},
     "output_type": "execute_result"
    }
   ],
   "source": [
    "# dataset rows and columns size\n",
    "df_e.shape"
   ]
  },
  {
   "cell_type": "code",
   "execution_count": 143,
   "metadata": {},
   "outputs": [
    {
     "data": {
      "text/html": [
       "<div>\n",
       "<style scoped>\n",
       "    .dataframe tbody tr th:only-of-type {\n",
       "        vertical-align: middle;\n",
       "    }\n",
       "\n",
       "    .dataframe tbody tr th {\n",
       "        vertical-align: top;\n",
       "    }\n",
       "\n",
       "    .dataframe thead th {\n",
       "        text-align: right;\n",
       "    }\n",
       "</style>\n",
       "<table border=\"1\" class=\"dataframe\">\n",
       "  <thead>\n",
       "    <tr style=\"text-align: right;\">\n",
       "      <th></th>\n",
       "      <th>date</th>\n",
       "      <th>EmpID</th>\n",
       "      <th>Gender</th>\n",
       "      <th>Age</th>\n",
       "      <th>EthnicGroup</th>\n",
       "      <th>FP</th>\n",
       "      <th>TermDate</th>\n",
       "      <th>BU</th>\n",
       "      <th>HireDate</th>\n",
       "      <th>PayTypeID</th>\n",
       "      <th>TermReason</th>\n",
       "    </tr>\n",
       "  </thead>\n",
       "  <tbody>\n",
       "    <tr>\n",
       "      <th>0</th>\n",
       "      <td>2012-02-01</td>\n",
       "      <td>68346</td>\n",
       "      <td>D</td>\n",
       "      <td>21</td>\n",
       "      <td>1</td>\n",
       "      <td>P</td>\n",
       "      <td>None</td>\n",
       "      <td>9</td>\n",
       "      <td>2010-10-16</td>\n",
       "      <td>H</td>\n",
       "      <td></td>\n",
       "    </tr>\n",
       "    <tr>\n",
       "      <th>1</th>\n",
       "      <td>2013-12-01</td>\n",
       "      <td>45108</td>\n",
       "      <td>D</td>\n",
       "      <td>21</td>\n",
       "      <td>1</td>\n",
       "      <td>P</td>\n",
       "      <td>None</td>\n",
       "      <td>9</td>\n",
       "      <td>2012-05-09</td>\n",
       "      <td>H</td>\n",
       "      <td></td>\n",
       "    </tr>\n",
       "    <tr>\n",
       "      <th>2</th>\n",
       "      <td>2013-12-01</td>\n",
       "      <td>5582</td>\n",
       "      <td>D</td>\n",
       "      <td>21</td>\n",
       "      <td>1</td>\n",
       "      <td>P</td>\n",
       "      <td>None</td>\n",
       "      <td>9</td>\n",
       "      <td>2013-08-28</td>\n",
       "      <td>H</td>\n",
       "      <td></td>\n",
       "    </tr>\n",
       "    <tr>\n",
       "      <th>3</th>\n",
       "      <td>2013-12-01</td>\n",
       "      <td>4708</td>\n",
       "      <td>D</td>\n",
       "      <td>21</td>\n",
       "      <td>1</td>\n",
       "      <td>P</td>\n",
       "      <td>None</td>\n",
       "      <td>9</td>\n",
       "      <td>2013-10-24</td>\n",
       "      <td>H</td>\n",
       "      <td></td>\n",
       "    </tr>\n",
       "    <tr>\n",
       "      <th>4</th>\n",
       "      <td>2011-12-01</td>\n",
       "      <td>45486</td>\n",
       "      <td>D</td>\n",
       "      <td>21</td>\n",
       "      <td>1</td>\n",
       "      <td>P</td>\n",
       "      <td>None</td>\n",
       "      <td>9</td>\n",
       "      <td>2011-05-25</td>\n",
       "      <td>H</td>\n",
       "      <td></td>\n",
       "    </tr>\n",
       "  </tbody>\n",
       "</table>\n",
       "</div>"
      ],
      "text/plain": [
       "         date  EmpID Gender  Age  EthnicGroup FP TermDate  BU    HireDate  \\\n",
       "0  2012-02-01  68346      D   21            1  P     None   9  2010-10-16   \n",
       "1  2013-12-01  45108      D   21            1  P     None   9  2012-05-09   \n",
       "2  2013-12-01   5582      D   21            1  P     None   9  2013-08-28   \n",
       "3  2013-12-01   4708      D   21            1  P     None   9  2013-10-24   \n",
       "4  2011-12-01  45486      D   21            1  P     None   9  2011-05-25   \n",
       "\n",
       "  PayTypeID TermReason  \n",
       "0         H             \n",
       "1         H             \n",
       "2         H             \n",
       "3         H             \n",
       "4         H             "
      ]
     },
     "execution_count": 143,
     "metadata": {},
     "output_type": "execute_result"
    }
   ],
   "source": [
    "df_e.head()"
   ]
  },
  {
   "cell_type": "code",
   "execution_count": 144,
   "metadata": {},
   "outputs": [
    {
     "data": {
      "text/html": [
       "<div>\n",
       "<style scoped>\n",
       "    .dataframe tbody tr th:only-of-type {\n",
       "        vertical-align: middle;\n",
       "    }\n",
       "\n",
       "    .dataframe tbody tr th {\n",
       "        vertical-align: top;\n",
       "    }\n",
       "\n",
       "    .dataframe thead th {\n",
       "        text-align: right;\n",
       "    }\n",
       "</style>\n",
       "<table border=\"1\" class=\"dataframe\">\n",
       "  <thead>\n",
       "    <tr style=\"text-align: right;\">\n",
       "      <th></th>\n",
       "      <th>date</th>\n",
       "      <th>EmpID</th>\n",
       "      <th>Gender</th>\n",
       "      <th>Age</th>\n",
       "      <th>EthnicGroup</th>\n",
       "      <th>FP</th>\n",
       "      <th>TermDate</th>\n",
       "      <th>BU</th>\n",
       "      <th>HireDate</th>\n",
       "      <th>PayTypeID</th>\n",
       "      <th>TermReason</th>\n",
       "    </tr>\n",
       "  </thead>\n",
       "  <tbody>\n",
       "    <tr>\n",
       "      <th>1290254</th>\n",
       "      <td>2013-07-01</td>\n",
       "      <td>113990</td>\n",
       "      <td>C</td>\n",
       "      <td>20</td>\n",
       "      <td>1</td>\n",
       "      <td>P</td>\n",
       "      <td>2013-07-25</td>\n",
       "      <td>99</td>\n",
       "      <td>2013-06-11</td>\n",
       "      <td>H</td>\n",
       "      <td>V</td>\n",
       "    </tr>\n",
       "    <tr>\n",
       "      <th>1290255</th>\n",
       "      <td>2013-08-01</td>\n",
       "      <td>117092</td>\n",
       "      <td>C</td>\n",
       "      <td>20</td>\n",
       "      <td>1</td>\n",
       "      <td>P</td>\n",
       "      <td>2013-08-30</td>\n",
       "      <td>99</td>\n",
       "      <td>2011-11-15</td>\n",
       "      <td>H</td>\n",
       "      <td>V</td>\n",
       "    </tr>\n",
       "    <tr>\n",
       "      <th>1290256</th>\n",
       "      <td>2013-10-01</td>\n",
       "      <td>120396</td>\n",
       "      <td>C</td>\n",
       "      <td>20</td>\n",
       "      <td>1</td>\n",
       "      <td>P</td>\n",
       "      <td>2013-10-12</td>\n",
       "      <td>99</td>\n",
       "      <td>2013-09-24</td>\n",
       "      <td>H</td>\n",
       "      <td>V</td>\n",
       "    </tr>\n",
       "    <tr>\n",
       "      <th>1290257</th>\n",
       "      <td>2013-12-01</td>\n",
       "      <td>13804</td>\n",
       "      <td>C</td>\n",
       "      <td>20</td>\n",
       "      <td>1</td>\n",
       "      <td>P</td>\n",
       "      <td>2013-12-17</td>\n",
       "      <td>99</td>\n",
       "      <td>2013-10-04</td>\n",
       "      <td>H</td>\n",
       "      <td>V</td>\n",
       "    </tr>\n",
       "    <tr>\n",
       "      <th>1290258</th>\n",
       "      <td>2014-05-01</td>\n",
       "      <td>24394</td>\n",
       "      <td>C</td>\n",
       "      <td>20</td>\n",
       "      <td>1</td>\n",
       "      <td>P</td>\n",
       "      <td>2014-05-23</td>\n",
       "      <td>99</td>\n",
       "      <td>2014-05-22</td>\n",
       "      <td>H</td>\n",
       "      <td>V</td>\n",
       "    </tr>\n",
       "  </tbody>\n",
       "</table>\n",
       "</div>"
      ],
      "text/plain": [
       "               date   EmpID Gender  Age  EthnicGroup FP    TermDate  BU  \\\n",
       "1290254  2013-07-01  113990      C   20            1  P  2013-07-25  99   \n",
       "1290255  2013-08-01  117092      C   20            1  P  2013-08-30  99   \n",
       "1290256  2013-10-01  120396      C   20            1  P  2013-10-12  99   \n",
       "1290257  2013-12-01   13804      C   20            1  P  2013-12-17  99   \n",
       "1290258  2014-05-01   24394      C   20            1  P  2014-05-23  99   \n",
       "\n",
       "           HireDate PayTypeID TermReason  \n",
       "1290254  2013-06-11         H          V  \n",
       "1290255  2011-11-15         H          V  \n",
       "1290256  2013-09-24         H          V  \n",
       "1290257  2013-10-04         H          V  \n",
       "1290258  2014-05-22         H          V  "
      ]
     },
     "execution_count": 144,
     "metadata": {},
     "output_type": "execute_result"
    }
   ],
   "source": [
    "df_e.tail()"
   ]
  },
  {
   "cell_type": "markdown",
   "metadata": {},
   "source": [
    "#### Data Type"
   ]
  },
  {
   "cell_type": "code",
   "execution_count": 145,
   "metadata": {},
   "outputs": [
    {
     "name": "stdout",
     "output_type": "stream",
     "text": [
      "<class 'pandas.core.frame.DataFrame'>\n",
      "RangeIndex: 1290259 entries, 0 to 1290258\n",
      "Data columns (total 11 columns):\n",
      " #   Column       Non-Null Count    Dtype \n",
      "---  ------       --------------    ----- \n",
      " 0   date         1290259 non-null  object\n",
      " 1   EmpID        1290259 non-null  int64 \n",
      " 2   Gender       1290259 non-null  object\n",
      " 3   Age          1290259 non-null  int64 \n",
      " 4   EthnicGroup  1290259 non-null  int64 \n",
      " 5   FP           1290259 non-null  object\n",
      " 6   TermDate     29442 non-null    object\n",
      " 7   BU           1290259 non-null  int64 \n",
      " 8   HireDate     1290259 non-null  object\n",
      " 9   PayTypeID    1290259 non-null  object\n",
      " 10  TermReason   1290259 non-null  object\n",
      "dtypes: int64(4), object(7)\n",
      "memory usage: 108.3+ MB\n"
     ]
    }
   ],
   "source": [
    "df_e.info()"
   ]
  },
  {
   "cell_type": "markdown",
   "metadata": {},
   "source": [
    "#### Data Distribution"
   ]
  },
  {
   "cell_type": "code",
   "execution_count": 146,
   "metadata": {},
   "outputs": [
    {
     "data": {
      "text/html": [
       "<div>\n",
       "<style scoped>\n",
       "    .dataframe tbody tr th:only-of-type {\n",
       "        vertical-align: middle;\n",
       "    }\n",
       "\n",
       "    .dataframe tbody tr th {\n",
       "        vertical-align: top;\n",
       "    }\n",
       "\n",
       "    .dataframe thead th {\n",
       "        text-align: right;\n",
       "    }\n",
       "</style>\n",
       "<table border=\"1\" class=\"dataframe\">\n",
       "  <thead>\n",
       "    <tr style=\"text-align: right;\">\n",
       "      <th></th>\n",
       "      <th>date</th>\n",
       "      <th>EmpID</th>\n",
       "      <th>Gender</th>\n",
       "      <th>Age</th>\n",
       "      <th>EthnicGroup</th>\n",
       "      <th>FP</th>\n",
       "      <th>TermDate</th>\n",
       "      <th>BU</th>\n",
       "      <th>HireDate</th>\n",
       "      <th>PayTypeID</th>\n",
       "      <th>TermReason</th>\n",
       "    </tr>\n",
       "  </thead>\n",
       "  <tbody>\n",
       "    <tr>\n",
       "      <th>count</th>\n",
       "      <td>1290259</td>\n",
       "      <td>1.290259e+06</td>\n",
       "      <td>1290259</td>\n",
       "      <td>1.290259e+06</td>\n",
       "      <td>1.290259e+06</td>\n",
       "      <td>1290259</td>\n",
       "      <td>29442</td>\n",
       "      <td>1.290259e+06</td>\n",
       "      <td>1290259</td>\n",
       "      <td>1290259</td>\n",
       "      <td>1290259</td>\n",
       "    </tr>\n",
       "    <tr>\n",
       "      <th>unique</th>\n",
       "      <td>48</td>\n",
       "      <td>NaN</td>\n",
       "      <td>2</td>\n",
       "      <td>NaN</td>\n",
       "      <td>NaN</td>\n",
       "      <td>2</td>\n",
       "      <td>734</td>\n",
       "      <td>NaN</td>\n",
       "      <td>7384</td>\n",
       "      <td>2</td>\n",
       "      <td>3</td>\n",
       "    </tr>\n",
       "    <tr>\n",
       "      <th>top</th>\n",
       "      <td>2014-10-01</td>\n",
       "      <td>NaN</td>\n",
       "      <td>D</td>\n",
       "      <td>NaN</td>\n",
       "      <td>NaN</td>\n",
       "      <td>P</td>\n",
       "      <td>2014-08-16</td>\n",
       "      <td>NaN</td>\n",
       "      <td>2012-08-24</td>\n",
       "      <td>H</td>\n",
       "      <td></td>\n",
       "    </tr>\n",
       "    <tr>\n",
       "      <th>freq</th>\n",
       "      <td>33831</td>\n",
       "      <td>NaN</td>\n",
       "      <td>699620</td>\n",
       "      <td>NaN</td>\n",
       "      <td>NaN</td>\n",
       "      <td>659132</td>\n",
       "      <td>102</td>\n",
       "      <td>NaN</td>\n",
       "      <td>1604</td>\n",
       "      <td>1127691</td>\n",
       "      <td>1260817</td>\n",
       "    </tr>\n",
       "    <tr>\n",
       "      <th>mean</th>\n",
       "      <td>NaN</td>\n",
       "      <td>6.685939e+04</td>\n",
       "      <td>NaN</td>\n",
       "      <td>3.950015e+01</td>\n",
       "      <td>1.340873e+00</td>\n",
       "      <td>NaN</td>\n",
       "      <td>NaN</td>\n",
       "      <td>2.160108e+01</td>\n",
       "      <td>NaN</td>\n",
       "      <td>NaN</td>\n",
       "      <td>NaN</td>\n",
       "    </tr>\n",
       "    <tr>\n",
       "      <th>std</th>\n",
       "      <td>NaN</td>\n",
       "      <td>2.770236e+04</td>\n",
       "      <td>NaN</td>\n",
       "      <td>1.544600e+01</td>\n",
       "      <td>9.105428e-01</td>\n",
       "      <td>NaN</td>\n",
       "      <td>NaN</td>\n",
       "      <td>2.855896e+01</td>\n",
       "      <td>NaN</td>\n",
       "      <td>NaN</td>\n",
       "      <td>NaN</td>\n",
       "    </tr>\n",
       "    <tr>\n",
       "      <th>min</th>\n",
       "      <td>NaN</td>\n",
       "      <td>0.000000e+00</td>\n",
       "      <td>NaN</td>\n",
       "      <td>1.400000e+01</td>\n",
       "      <td>1.000000e+00</td>\n",
       "      <td>NaN</td>\n",
       "      <td>NaN</td>\n",
       "      <td>1.000000e+00</td>\n",
       "      <td>NaN</td>\n",
       "      <td>NaN</td>\n",
       "      <td>NaN</td>\n",
       "    </tr>\n",
       "    <tr>\n",
       "      <th>25%</th>\n",
       "      <td>NaN</td>\n",
       "      <td>4.891400e+04</td>\n",
       "      <td>NaN</td>\n",
       "      <td>2.500000e+01</td>\n",
       "      <td>1.000000e+00</td>\n",
       "      <td>NaN</td>\n",
       "      <td>NaN</td>\n",
       "      <td>6.000000e+00</td>\n",
       "      <td>NaN</td>\n",
       "      <td>NaN</td>\n",
       "      <td>NaN</td>\n",
       "    </tr>\n",
       "    <tr>\n",
       "      <th>50%</th>\n",
       "      <td>NaN</td>\n",
       "      <td>6.853200e+04</td>\n",
       "      <td>NaN</td>\n",
       "      <td>3.900000e+01</td>\n",
       "      <td>1.000000e+00</td>\n",
       "      <td>NaN</td>\n",
       "      <td>NaN</td>\n",
       "      <td>1.300000e+01</td>\n",
       "      <td>NaN</td>\n",
       "      <td>NaN</td>\n",
       "      <td>NaN</td>\n",
       "    </tr>\n",
       "    <tr>\n",
       "      <th>75%</th>\n",
       "      <td>NaN</td>\n",
       "      <td>8.732800e+04</td>\n",
       "      <td>NaN</td>\n",
       "      <td>5.200000e+01</td>\n",
       "      <td>1.000000e+00</td>\n",
       "      <td>NaN</td>\n",
       "      <td>NaN</td>\n",
       "      <td>2.000000e+01</td>\n",
       "      <td>NaN</td>\n",
       "      <td>NaN</td>\n",
       "      <td>NaN</td>\n",
       "    </tr>\n",
       "    <tr>\n",
       "      <th>max</th>\n",
       "      <td>NaN</td>\n",
       "      <td>1.236840e+05</td>\n",
       "      <td>NaN</td>\n",
       "      <td>9.600000e+01</td>\n",
       "      <td>7.000000e+00</td>\n",
       "      <td>NaN</td>\n",
       "      <td>NaN</td>\n",
       "      <td>9.900000e+01</td>\n",
       "      <td>NaN</td>\n",
       "      <td>NaN</td>\n",
       "      <td>NaN</td>\n",
       "    </tr>\n",
       "  </tbody>\n",
       "</table>\n",
       "</div>"
      ],
      "text/plain": [
       "              date         EmpID   Gender           Age   EthnicGroup  \\\n",
       "count      1290259  1.290259e+06  1290259  1.290259e+06  1.290259e+06   \n",
       "unique          48           NaN        2           NaN           NaN   \n",
       "top     2014-10-01           NaN        D           NaN           NaN   \n",
       "freq         33831           NaN   699620           NaN           NaN   \n",
       "mean           NaN  6.685939e+04      NaN  3.950015e+01  1.340873e+00   \n",
       "std            NaN  2.770236e+04      NaN  1.544600e+01  9.105428e-01   \n",
       "min            NaN  0.000000e+00      NaN  1.400000e+01  1.000000e+00   \n",
       "25%            NaN  4.891400e+04      NaN  2.500000e+01  1.000000e+00   \n",
       "50%            NaN  6.853200e+04      NaN  3.900000e+01  1.000000e+00   \n",
       "75%            NaN  8.732800e+04      NaN  5.200000e+01  1.000000e+00   \n",
       "max            NaN  1.236840e+05      NaN  9.600000e+01  7.000000e+00   \n",
       "\n",
       "             FP    TermDate            BU    HireDate PayTypeID TermReason  \n",
       "count   1290259       29442  1.290259e+06     1290259   1290259    1290259  \n",
       "unique        2         734           NaN        7384         2          3  \n",
       "top           P  2014-08-16           NaN  2012-08-24         H             \n",
       "freq     659132         102           NaN        1604   1127691    1260817  \n",
       "mean        NaN         NaN  2.160108e+01         NaN       NaN        NaN  \n",
       "std         NaN         NaN  2.855896e+01         NaN       NaN        NaN  \n",
       "min         NaN         NaN  1.000000e+00         NaN       NaN        NaN  \n",
       "25%         NaN         NaN  6.000000e+00         NaN       NaN        NaN  \n",
       "50%         NaN         NaN  1.300000e+01         NaN       NaN        NaN  \n",
       "75%         NaN         NaN  2.000000e+01         NaN       NaN        NaN  \n",
       "max         NaN         NaN  9.900000e+01         NaN       NaN        NaN  "
      ]
     },
     "execution_count": 146,
     "metadata": {},
     "output_type": "execute_result"
    }
   ],
   "source": [
    "df_e.describe(include='all')"
   ]
  },
  {
   "cell_type": "markdown",
   "metadata": {},
   "source": [
    "#### Null Values"
   ]
  },
  {
   "cell_type": "code",
   "execution_count": 147,
   "metadata": {},
   "outputs": [
    {
     "name": "stdout",
     "output_type": "stream",
     "text": [
      "Total null values in each column of the dataframe = \n",
      " date                 0\n",
      "EmpID                0\n",
      "Gender               0\n",
      "Age                  0\n",
      "EthnicGroup          0\n",
      "FP                   0\n",
      "TermDate       1260817\n",
      "BU                   0\n",
      "HireDate             0\n",
      "PayTypeID            0\n",
      "TermReason           0\n",
      "dtype: int64\n"
     ]
    }
   ],
   "source": [
    "# Total Null Values in each column\n",
    "print(f'Total null values in each column of the dataframe = \\n {df_e.isna().sum()}')"
   ]
  },
  {
   "cell_type": "code",
   "execution_count": 148,
   "metadata": {},
   "outputs": [
    {
     "name": "stdout",
     "output_type": "stream",
     "text": [
      "No.of.unique values in each column :\n",
      " date              48\n",
      "EmpID          61843\n",
      "Gender             2\n",
      "Age               83\n",
      "EthnicGroup        7\n",
      "FP                 2\n",
      "TermDate         734\n",
      "BU                30\n",
      "HireDate        7384\n",
      "PayTypeID          2\n",
      "TermReason         3\n",
      "dtype: int64\n"
     ]
    }
   ],
   "source": [
    "# Check the unique values of each row for each column\n",
    "n = df_e.nunique(axis=0)\n",
    "  \n",
    "print(\"No.of.unique values in each column :\\n\",\n",
    "      n)"
   ]
  },
  {
   "cell_type": "markdown",
   "metadata": {},
   "source": [
    "#### Unique / Distinct Values in Columns"
   ]
  },
  {
   "cell_type": "code",
   "execution_count": 149,
   "metadata": {},
   "outputs": [
    {
     "name": "stdout",
     "output_type": "stream",
     "text": [
      "Unique EMPIDs : 61843\n",
      "Are the EmpID's in each row unique: False\n"
     ]
    }
   ],
   "source": [
    "# Checking if EmpID's are unique for each record\n",
    "\n",
    "# Unique EmpID's\n",
    "empid_unique = len(pd.unique(df_e['EmpID']))\n",
    "\n",
    "print(f\"Unique EMPIDs : {empid_unique}\")\n",
    "print(f\"Are the EmpID's in each row unique: {len(set(df_e['EmpID'])) == df_e['EmpID'].count()}\")"
   ]
  },
  {
   "cell_type": "code",
   "execution_count": 150,
   "metadata": {},
   "outputs": [
    {
     "data": {
      "text/plain": [
       "29442"
      ]
     },
     "execution_count": 150,
     "metadata": {},
     "output_type": "execute_result"
    }
   ],
   "source": [
    "# Total termination dates available\n",
    "len(df_e[df_e['TermDate'].notnull()])"
   ]
  },
  {
   "cell_type": "code",
   "execution_count": 151,
   "metadata": {},
   "outputs": [
    {
     "data": {
      "text/plain": [
       "29442"
      ]
     },
     "execution_count": 151,
     "metadata": {},
     "output_type": "execute_result"
    }
   ],
   "source": [
    "# Total termination dates with unique EmpID\n",
    "len(pd.unique(df_e[df_e['TermDate'].notnull()]['EmpID']))"
   ]
  },
  {
   "cell_type": "code",
   "execution_count": 152,
   "metadata": {},
   "outputs": [
    {
     "data": {
      "text/plain": [
       "120616"
      ]
     },
     "execution_count": 152,
     "metadata": {},
     "output_type": "execute_result"
    }
   ],
   "source": [
    "# Looking at the first EmpID with a Termination Date\n",
    "df_e[df_e['TermDate'].notnull()]['EmpID'].iloc[0]"
   ]
  },
  {
   "cell_type": "code",
   "execution_count": 153,
   "metadata": {},
   "outputs": [
    {
     "data": {
      "text/html": [
       "<div>\n",
       "<style scoped>\n",
       "    .dataframe tbody tr th:only-of-type {\n",
       "        vertical-align: middle;\n",
       "    }\n",
       "\n",
       "    .dataframe tbody tr th {\n",
       "        vertical-align: top;\n",
       "    }\n",
       "\n",
       "    .dataframe thead th {\n",
       "        text-align: right;\n",
       "    }\n",
       "</style>\n",
       "<table border=\"1\" class=\"dataframe\">\n",
       "  <thead>\n",
       "    <tr style=\"text-align: right;\">\n",
       "      <th></th>\n",
       "      <th>date</th>\n",
       "      <th>EmpID</th>\n",
       "      <th>Gender</th>\n",
       "      <th>Age</th>\n",
       "      <th>EthnicGroup</th>\n",
       "      <th>FP</th>\n",
       "      <th>TermDate</th>\n",
       "      <th>BU</th>\n",
       "      <th>HireDate</th>\n",
       "      <th>PayTypeID</th>\n",
       "      <th>TermReason</th>\n",
       "    </tr>\n",
       "  </thead>\n",
       "  <tbody>\n",
       "    <tr>\n",
       "      <th>1206459</th>\n",
       "      <td>2012-02-01</td>\n",
       "      <td>120616</td>\n",
       "      <td>C</td>\n",
       "      <td>27</td>\n",
       "      <td>4</td>\n",
       "      <td>F</td>\n",
       "      <td>None</td>\n",
       "      <td>22</td>\n",
       "      <td>2007-03-01</td>\n",
       "      <td>S</td>\n",
       "      <td></td>\n",
       "    </tr>\n",
       "    <tr>\n",
       "      <th>1206460</th>\n",
       "      <td>2013-06-01</td>\n",
       "      <td>120616</td>\n",
       "      <td>C</td>\n",
       "      <td>28</td>\n",
       "      <td>4</td>\n",
       "      <td>F</td>\n",
       "      <td>None</td>\n",
       "      <td>22</td>\n",
       "      <td>2007-03-01</td>\n",
       "      <td>S</td>\n",
       "      <td></td>\n",
       "    </tr>\n",
       "    <tr>\n",
       "      <th>1206461</th>\n",
       "      <td>2011-02-01</td>\n",
       "      <td>120616</td>\n",
       "      <td>C</td>\n",
       "      <td>26</td>\n",
       "      <td>4</td>\n",
       "      <td>F</td>\n",
       "      <td>None</td>\n",
       "      <td>22</td>\n",
       "      <td>2007-03-01</td>\n",
       "      <td>S</td>\n",
       "      <td></td>\n",
       "    </tr>\n",
       "    <tr>\n",
       "      <th>1206462</th>\n",
       "      <td>2011-01-01</td>\n",
       "      <td>120616</td>\n",
       "      <td>C</td>\n",
       "      <td>26</td>\n",
       "      <td>4</td>\n",
       "      <td>F</td>\n",
       "      <td>None</td>\n",
       "      <td>22</td>\n",
       "      <td>2007-03-01</td>\n",
       "      <td>S</td>\n",
       "      <td></td>\n",
       "    </tr>\n",
       "    <tr>\n",
       "      <th>1206463</th>\n",
       "      <td>2013-05-01</td>\n",
       "      <td>120616</td>\n",
       "      <td>C</td>\n",
       "      <td>28</td>\n",
       "      <td>4</td>\n",
       "      <td>F</td>\n",
       "      <td>None</td>\n",
       "      <td>22</td>\n",
       "      <td>2007-03-01</td>\n",
       "      <td>S</td>\n",
       "      <td></td>\n",
       "    </tr>\n",
       "    <tr>\n",
       "      <th>1206464</th>\n",
       "      <td>2012-08-01</td>\n",
       "      <td>120616</td>\n",
       "      <td>C</td>\n",
       "      <td>27</td>\n",
       "      <td>4</td>\n",
       "      <td>F</td>\n",
       "      <td>None</td>\n",
       "      <td>22</td>\n",
       "      <td>2007-03-01</td>\n",
       "      <td>S</td>\n",
       "      <td></td>\n",
       "    </tr>\n",
       "    <tr>\n",
       "      <th>1206465</th>\n",
       "      <td>2012-09-01</td>\n",
       "      <td>120616</td>\n",
       "      <td>C</td>\n",
       "      <td>27</td>\n",
       "      <td>4</td>\n",
       "      <td>F</td>\n",
       "      <td>None</td>\n",
       "      <td>22</td>\n",
       "      <td>2007-03-01</td>\n",
       "      <td>S</td>\n",
       "      <td></td>\n",
       "    </tr>\n",
       "    <tr>\n",
       "      <th>1206466</th>\n",
       "      <td>2011-04-01</td>\n",
       "      <td>120616</td>\n",
       "      <td>C</td>\n",
       "      <td>26</td>\n",
       "      <td>4</td>\n",
       "      <td>F</td>\n",
       "      <td>None</td>\n",
       "      <td>22</td>\n",
       "      <td>2007-03-01</td>\n",
       "      <td>S</td>\n",
       "      <td></td>\n",
       "    </tr>\n",
       "    <tr>\n",
       "      <th>1206467</th>\n",
       "      <td>2011-03-01</td>\n",
       "      <td>120616</td>\n",
       "      <td>C</td>\n",
       "      <td>26</td>\n",
       "      <td>4</td>\n",
       "      <td>F</td>\n",
       "      <td>None</td>\n",
       "      <td>22</td>\n",
       "      <td>2007-03-01</td>\n",
       "      <td>S</td>\n",
       "      <td></td>\n",
       "    </tr>\n",
       "    <tr>\n",
       "      <th>1206468</th>\n",
       "      <td>2012-07-01</td>\n",
       "      <td>120616</td>\n",
       "      <td>C</td>\n",
       "      <td>27</td>\n",
       "      <td>4</td>\n",
       "      <td>F</td>\n",
       "      <td>None</td>\n",
       "      <td>22</td>\n",
       "      <td>2007-03-01</td>\n",
       "      <td>S</td>\n",
       "      <td></td>\n",
       "    </tr>\n",
       "    <tr>\n",
       "      <th>1206469</th>\n",
       "      <td>2012-03-01</td>\n",
       "      <td>120616</td>\n",
       "      <td>C</td>\n",
       "      <td>27</td>\n",
       "      <td>4</td>\n",
       "      <td>F</td>\n",
       "      <td>None</td>\n",
       "      <td>22</td>\n",
       "      <td>2007-03-01</td>\n",
       "      <td>S</td>\n",
       "      <td></td>\n",
       "    </tr>\n",
       "    <tr>\n",
       "      <th>1206470</th>\n",
       "      <td>2012-11-01</td>\n",
       "      <td>120616</td>\n",
       "      <td>C</td>\n",
       "      <td>27</td>\n",
       "      <td>4</td>\n",
       "      <td>F</td>\n",
       "      <td>None</td>\n",
       "      <td>22</td>\n",
       "      <td>2007-03-01</td>\n",
       "      <td>S</td>\n",
       "      <td></td>\n",
       "    </tr>\n",
       "    <tr>\n",
       "      <th>1206471</th>\n",
       "      <td>2012-05-01</td>\n",
       "      <td>120616</td>\n",
       "      <td>C</td>\n",
       "      <td>27</td>\n",
       "      <td>4</td>\n",
       "      <td>F</td>\n",
       "      <td>None</td>\n",
       "      <td>22</td>\n",
       "      <td>2007-03-01</td>\n",
       "      <td>S</td>\n",
       "      <td></td>\n",
       "    </tr>\n",
       "    <tr>\n",
       "      <th>1206472</th>\n",
       "      <td>2012-06-01</td>\n",
       "      <td>120616</td>\n",
       "      <td>C</td>\n",
       "      <td>27</td>\n",
       "      <td>4</td>\n",
       "      <td>F</td>\n",
       "      <td>None</td>\n",
       "      <td>22</td>\n",
       "      <td>2007-03-01</td>\n",
       "      <td>S</td>\n",
       "      <td></td>\n",
       "    </tr>\n",
       "    <tr>\n",
       "      <th>1206473</th>\n",
       "      <td>2012-04-01</td>\n",
       "      <td>120616</td>\n",
       "      <td>C</td>\n",
       "      <td>27</td>\n",
       "      <td>4</td>\n",
       "      <td>F</td>\n",
       "      <td>None</td>\n",
       "      <td>22</td>\n",
       "      <td>2007-03-01</td>\n",
       "      <td>S</td>\n",
       "      <td></td>\n",
       "    </tr>\n",
       "    <tr>\n",
       "      <th>1206474</th>\n",
       "      <td>2012-12-01</td>\n",
       "      <td>120616</td>\n",
       "      <td>C</td>\n",
       "      <td>27</td>\n",
       "      <td>4</td>\n",
       "      <td>F</td>\n",
       "      <td>None</td>\n",
       "      <td>22</td>\n",
       "      <td>2007-03-01</td>\n",
       "      <td>S</td>\n",
       "      <td></td>\n",
       "    </tr>\n",
       "    <tr>\n",
       "      <th>1206475</th>\n",
       "      <td>2013-02-01</td>\n",
       "      <td>120616</td>\n",
       "      <td>C</td>\n",
       "      <td>28</td>\n",
       "      <td>4</td>\n",
       "      <td>F</td>\n",
       "      <td>None</td>\n",
       "      <td>22</td>\n",
       "      <td>2007-03-01</td>\n",
       "      <td>S</td>\n",
       "      <td></td>\n",
       "    </tr>\n",
       "    <tr>\n",
       "      <th>1206476</th>\n",
       "      <td>2011-06-01</td>\n",
       "      <td>120616</td>\n",
       "      <td>C</td>\n",
       "      <td>26</td>\n",
       "      <td>4</td>\n",
       "      <td>F</td>\n",
       "      <td>None</td>\n",
       "      <td>22</td>\n",
       "      <td>2007-03-01</td>\n",
       "      <td>S</td>\n",
       "      <td></td>\n",
       "    </tr>\n",
       "    <tr>\n",
       "      <th>1206477</th>\n",
       "      <td>2011-07-01</td>\n",
       "      <td>120616</td>\n",
       "      <td>C</td>\n",
       "      <td>26</td>\n",
       "      <td>4</td>\n",
       "      <td>F</td>\n",
       "      <td>None</td>\n",
       "      <td>22</td>\n",
       "      <td>2007-03-01</td>\n",
       "      <td>S</td>\n",
       "      <td></td>\n",
       "    </tr>\n",
       "    <tr>\n",
       "      <th>1206478</th>\n",
       "      <td>2013-09-01</td>\n",
       "      <td>120616</td>\n",
       "      <td>C</td>\n",
       "      <td>28</td>\n",
       "      <td>4</td>\n",
       "      <td>F</td>\n",
       "      <td>None</td>\n",
       "      <td>22</td>\n",
       "      <td>2007-03-01</td>\n",
       "      <td>S</td>\n",
       "      <td></td>\n",
       "    </tr>\n",
       "    <tr>\n",
       "      <th>1206479</th>\n",
       "      <td>2011-08-01</td>\n",
       "      <td>120616</td>\n",
       "      <td>C</td>\n",
       "      <td>26</td>\n",
       "      <td>4</td>\n",
       "      <td>F</td>\n",
       "      <td>None</td>\n",
       "      <td>22</td>\n",
       "      <td>2007-03-01</td>\n",
       "      <td>S</td>\n",
       "      <td></td>\n",
       "    </tr>\n",
       "    <tr>\n",
       "      <th>1206480</th>\n",
       "      <td>2011-05-01</td>\n",
       "      <td>120616</td>\n",
       "      <td>C</td>\n",
       "      <td>26</td>\n",
       "      <td>4</td>\n",
       "      <td>F</td>\n",
       "      <td>None</td>\n",
       "      <td>22</td>\n",
       "      <td>2007-03-01</td>\n",
       "      <td>S</td>\n",
       "      <td></td>\n",
       "    </tr>\n",
       "    <tr>\n",
       "      <th>1206481</th>\n",
       "      <td>2013-08-01</td>\n",
       "      <td>120616</td>\n",
       "      <td>C</td>\n",
       "      <td>28</td>\n",
       "      <td>4</td>\n",
       "      <td>F</td>\n",
       "      <td>None</td>\n",
       "      <td>22</td>\n",
       "      <td>2007-03-01</td>\n",
       "      <td>S</td>\n",
       "      <td></td>\n",
       "    </tr>\n",
       "    <tr>\n",
       "      <th>1206482</th>\n",
       "      <td>2013-03-01</td>\n",
       "      <td>120616</td>\n",
       "      <td>C</td>\n",
       "      <td>28</td>\n",
       "      <td>4</td>\n",
       "      <td>F</td>\n",
       "      <td>None</td>\n",
       "      <td>22</td>\n",
       "      <td>2007-03-01</td>\n",
       "      <td>S</td>\n",
       "      <td></td>\n",
       "    </tr>\n",
       "    <tr>\n",
       "      <th>1206483</th>\n",
       "      <td>2012-10-01</td>\n",
       "      <td>120616</td>\n",
       "      <td>C</td>\n",
       "      <td>27</td>\n",
       "      <td>4</td>\n",
       "      <td>F</td>\n",
       "      <td>None</td>\n",
       "      <td>22</td>\n",
       "      <td>2007-03-01</td>\n",
       "      <td>S</td>\n",
       "      <td></td>\n",
       "    </tr>\n",
       "    <tr>\n",
       "      <th>1206484</th>\n",
       "      <td>2013-01-01</td>\n",
       "      <td>120616</td>\n",
       "      <td>C</td>\n",
       "      <td>28</td>\n",
       "      <td>4</td>\n",
       "      <td>F</td>\n",
       "      <td>None</td>\n",
       "      <td>22</td>\n",
       "      <td>2007-03-01</td>\n",
       "      <td>S</td>\n",
       "      <td></td>\n",
       "    </tr>\n",
       "    <tr>\n",
       "      <th>1206487</th>\n",
       "      <td>2013-07-01</td>\n",
       "      <td>120616</td>\n",
       "      <td>C</td>\n",
       "      <td>28</td>\n",
       "      <td>4</td>\n",
       "      <td>F</td>\n",
       "      <td>None</td>\n",
       "      <td>22</td>\n",
       "      <td>2007-03-01</td>\n",
       "      <td>S</td>\n",
       "      <td></td>\n",
       "    </tr>\n",
       "    <tr>\n",
       "      <th>1206490</th>\n",
       "      <td>2013-04-01</td>\n",
       "      <td>120616</td>\n",
       "      <td>C</td>\n",
       "      <td>28</td>\n",
       "      <td>4</td>\n",
       "      <td>F</td>\n",
       "      <td>None</td>\n",
       "      <td>22</td>\n",
       "      <td>2007-03-01</td>\n",
       "      <td>S</td>\n",
       "      <td></td>\n",
       "    </tr>\n",
       "    <tr>\n",
       "      <th>1206492</th>\n",
       "      <td>2011-09-01</td>\n",
       "      <td>120616</td>\n",
       "      <td>C</td>\n",
       "      <td>26</td>\n",
       "      <td>4</td>\n",
       "      <td>F</td>\n",
       "      <td>None</td>\n",
       "      <td>22</td>\n",
       "      <td>2007-03-01</td>\n",
       "      <td>S</td>\n",
       "      <td></td>\n",
       "    </tr>\n",
       "    <tr>\n",
       "      <th>1206493</th>\n",
       "      <td>2011-11-01</td>\n",
       "      <td>120616</td>\n",
       "      <td>C</td>\n",
       "      <td>26</td>\n",
       "      <td>4</td>\n",
       "      <td>F</td>\n",
       "      <td>None</td>\n",
       "      <td>22</td>\n",
       "      <td>2007-03-01</td>\n",
       "      <td>S</td>\n",
       "      <td></td>\n",
       "    </tr>\n",
       "    <tr>\n",
       "      <th>1206494</th>\n",
       "      <td>2011-10-01</td>\n",
       "      <td>120616</td>\n",
       "      <td>C</td>\n",
       "      <td>26</td>\n",
       "      <td>4</td>\n",
       "      <td>F</td>\n",
       "      <td>None</td>\n",
       "      <td>22</td>\n",
       "      <td>2007-03-01</td>\n",
       "      <td>S</td>\n",
       "      <td></td>\n",
       "    </tr>\n",
       "    <tr>\n",
       "      <th>1206496</th>\n",
       "      <td>2011-12-01</td>\n",
       "      <td>120616</td>\n",
       "      <td>C</td>\n",
       "      <td>26</td>\n",
       "      <td>4</td>\n",
       "      <td>F</td>\n",
       "      <td>None</td>\n",
       "      <td>22</td>\n",
       "      <td>2007-03-01</td>\n",
       "      <td>S</td>\n",
       "      <td></td>\n",
       "    </tr>\n",
       "    <tr>\n",
       "      <th>1206498</th>\n",
       "      <td>2012-01-01</td>\n",
       "      <td>120616</td>\n",
       "      <td>C</td>\n",
       "      <td>27</td>\n",
       "      <td>4</td>\n",
       "      <td>F</td>\n",
       "      <td>None</td>\n",
       "      <td>22</td>\n",
       "      <td>2007-03-01</td>\n",
       "      <td>S</td>\n",
       "      <td></td>\n",
       "    </tr>\n",
       "    <tr>\n",
       "      <th>1260817</th>\n",
       "      <td>2013-10-01</td>\n",
       "      <td>120616</td>\n",
       "      <td>C</td>\n",
       "      <td>28</td>\n",
       "      <td>4</td>\n",
       "      <td>F</td>\n",
       "      <td>2013-10-15</td>\n",
       "      <td>22</td>\n",
       "      <td>2007-03-01</td>\n",
       "      <td>S</td>\n",
       "      <td>V</td>\n",
       "    </tr>\n",
       "  </tbody>\n",
       "</table>\n",
       "</div>"
      ],
      "text/plain": [
       "               date   EmpID Gender  Age  EthnicGroup FP    TermDate  BU  \\\n",
       "1206459  2012-02-01  120616      C   27            4  F        None  22   \n",
       "1206460  2013-06-01  120616      C   28            4  F        None  22   \n",
       "1206461  2011-02-01  120616      C   26            4  F        None  22   \n",
       "1206462  2011-01-01  120616      C   26            4  F        None  22   \n",
       "1206463  2013-05-01  120616      C   28            4  F        None  22   \n",
       "1206464  2012-08-01  120616      C   27            4  F        None  22   \n",
       "1206465  2012-09-01  120616      C   27            4  F        None  22   \n",
       "1206466  2011-04-01  120616      C   26            4  F        None  22   \n",
       "1206467  2011-03-01  120616      C   26            4  F        None  22   \n",
       "1206468  2012-07-01  120616      C   27            4  F        None  22   \n",
       "1206469  2012-03-01  120616      C   27            4  F        None  22   \n",
       "1206470  2012-11-01  120616      C   27            4  F        None  22   \n",
       "1206471  2012-05-01  120616      C   27            4  F        None  22   \n",
       "1206472  2012-06-01  120616      C   27            4  F        None  22   \n",
       "1206473  2012-04-01  120616      C   27            4  F        None  22   \n",
       "1206474  2012-12-01  120616      C   27            4  F        None  22   \n",
       "1206475  2013-02-01  120616      C   28            4  F        None  22   \n",
       "1206476  2011-06-01  120616      C   26            4  F        None  22   \n",
       "1206477  2011-07-01  120616      C   26            4  F        None  22   \n",
       "1206478  2013-09-01  120616      C   28            4  F        None  22   \n",
       "1206479  2011-08-01  120616      C   26            4  F        None  22   \n",
       "1206480  2011-05-01  120616      C   26            4  F        None  22   \n",
       "1206481  2013-08-01  120616      C   28            4  F        None  22   \n",
       "1206482  2013-03-01  120616      C   28            4  F        None  22   \n",
       "1206483  2012-10-01  120616      C   27            4  F        None  22   \n",
       "1206484  2013-01-01  120616      C   28            4  F        None  22   \n",
       "1206487  2013-07-01  120616      C   28            4  F        None  22   \n",
       "1206490  2013-04-01  120616      C   28            4  F        None  22   \n",
       "1206492  2011-09-01  120616      C   26            4  F        None  22   \n",
       "1206493  2011-11-01  120616      C   26            4  F        None  22   \n",
       "1206494  2011-10-01  120616      C   26            4  F        None  22   \n",
       "1206496  2011-12-01  120616      C   26            4  F        None  22   \n",
       "1206498  2012-01-01  120616      C   27            4  F        None  22   \n",
       "1260817  2013-10-01  120616      C   28            4  F  2013-10-15  22   \n",
       "\n",
       "           HireDate PayTypeID TermReason  \n",
       "1206459  2007-03-01         S             \n",
       "1206460  2007-03-01         S             \n",
       "1206461  2007-03-01         S             \n",
       "1206462  2007-03-01         S             \n",
       "1206463  2007-03-01         S             \n",
       "1206464  2007-03-01         S             \n",
       "1206465  2007-03-01         S             \n",
       "1206466  2007-03-01         S             \n",
       "1206467  2007-03-01         S             \n",
       "1206468  2007-03-01         S             \n",
       "1206469  2007-03-01         S             \n",
       "1206470  2007-03-01         S             \n",
       "1206471  2007-03-01         S             \n",
       "1206472  2007-03-01         S             \n",
       "1206473  2007-03-01         S             \n",
       "1206474  2007-03-01         S             \n",
       "1206475  2007-03-01         S             \n",
       "1206476  2007-03-01         S             \n",
       "1206477  2007-03-01         S             \n",
       "1206478  2007-03-01         S             \n",
       "1206479  2007-03-01         S             \n",
       "1206480  2007-03-01         S             \n",
       "1206481  2007-03-01         S             \n",
       "1206482  2007-03-01         S             \n",
       "1206483  2007-03-01         S             \n",
       "1206484  2007-03-01         S             \n",
       "1206487  2007-03-01         S             \n",
       "1206490  2007-03-01         S             \n",
       "1206492  2007-03-01         S             \n",
       "1206493  2007-03-01         S             \n",
       "1206494  2007-03-01         S             \n",
       "1206496  2007-03-01         S             \n",
       "1206498  2007-03-01         S             \n",
       "1260817  2007-03-01         S          V  "
      ]
     },
     "execution_count": 153,
     "metadata": {},
     "output_type": "execute_result"
    }
   ],
   "source": [
    "# Records of EmpID 120616\n",
    "df_e.loc[df_e['EmpID'] == 120616]"
   ]
  },
  {
   "cell_type": "code",
   "execution_count": 154,
   "metadata": {},
   "outputs": [
    {
     "data": {
      "text/plain": [
       "29442"
      ]
     },
     "execution_count": 154,
     "metadata": {},
     "output_type": "execute_result"
    }
   ],
   "source": [
    "# Total Termination Dates\n",
    "df_e['TermDate'].count() "
   ]
  },
  {
   "cell_type": "markdown",
   "metadata": {},
   "source": [
    "#### Observations\n",
    "* The dataset has `11 columns` and `1290259 rows`\n",
    "* The count of  total null values in `TermReason` column says 0 but from the first 5 rows we can see that there are many null values\n",
    "* On further analysis it was found that in the `TermReason` column the empty rows are not categorized as null\n",
    "* Datatype of column `date` & `HireDate` is of type object which needs to be changed to type `Date`\n",
    "* Column names are not appropriate Eg: `BU`\n",
    "* Columns `Gender`, `EthnicGroup`, `FP`, `BU`, `TermReason` contain ID's and need to be renamed to reflect that\n",
    "* `EmpID` cannot be primary key as this value pair is not unique\n",
    "* Since the total number of employees is more than than the terminated ones this dataset containes employees who have not left the company as well\n",
    "* Among the `TermDate` there is a unique termination date for each terminated employee"
   ]
  },
  {
   "cell_type": "markdown",
   "metadata": {},
   "source": [
    "### BU (Business Unit) Dataset"
   ]
  },
  {
   "cell_type": "code",
   "execution_count": 155,
   "metadata": {},
   "outputs": [
    {
     "data": {
      "text/plain": [
       "(30, 3)"
      ]
     },
     "execution_count": 155,
     "metadata": {},
     "output_type": "execute_result"
    }
   ],
   "source": [
    "df_b.shape"
   ]
  },
  {
   "cell_type": "code",
   "execution_count": 156,
   "metadata": {},
   "outputs": [
    {
     "data": {
      "text/html": [
       "<div>\n",
       "<style scoped>\n",
       "    .dataframe tbody tr th:only-of-type {\n",
       "        vertical-align: middle;\n",
       "    }\n",
       "\n",
       "    .dataframe tbody tr th {\n",
       "        vertical-align: top;\n",
       "    }\n",
       "\n",
       "    .dataframe thead th {\n",
       "        text-align: right;\n",
       "    }\n",
       "</style>\n",
       "<table border=\"1\" class=\"dataframe\">\n",
       "  <thead>\n",
       "    <tr style=\"text-align: right;\">\n",
       "      <th></th>\n",
       "      <th>BU</th>\n",
       "      <th>RegionSeq</th>\n",
       "      <th>VP</th>\n",
       "    </tr>\n",
       "  </thead>\n",
       "  <tbody>\n",
       "    <tr>\n",
       "      <th>0</th>\n",
       "      <td>1</td>\n",
       "      <td>1-North</td>\n",
       "      <td>Sherley Rhymes</td>\n",
       "    </tr>\n",
       "    <tr>\n",
       "      <th>1</th>\n",
       "      <td>2</td>\n",
       "      <td>1-North</td>\n",
       "      <td>Dan Brown</td>\n",
       "    </tr>\n",
       "    <tr>\n",
       "      <th>2</th>\n",
       "      <td>3</td>\n",
       "      <td>1-North</td>\n",
       "      <td>Glennie Butters</td>\n",
       "    </tr>\n",
       "    <tr>\n",
       "      <th>3</th>\n",
       "      <td>4</td>\n",
       "      <td>1-North</td>\n",
       "      <td>Ruthann Lee</td>\n",
       "    </tr>\n",
       "    <tr>\n",
       "      <th>4</th>\n",
       "      <td>5</td>\n",
       "      <td>2-Midwest</td>\n",
       "      <td>Reena Hentz</td>\n",
       "    </tr>\n",
       "  </tbody>\n",
       "</table>\n",
       "</div>"
      ],
      "text/plain": [
       "   BU  RegionSeq               VP\n",
       "0   1    1-North   Sherley Rhymes\n",
       "1   2    1-North        Dan Brown\n",
       "2   3    1-North  Glennie Butters\n",
       "3   4    1-North      Ruthann Lee\n",
       "4   5  2-Midwest      Reena Hentz"
      ]
     },
     "execution_count": 156,
     "metadata": {},
     "output_type": "execute_result"
    }
   ],
   "source": [
    "df_b.head()"
   ]
  },
  {
   "cell_type": "code",
   "execution_count": 157,
   "metadata": {},
   "outputs": [
    {
     "data": {
      "text/html": [
       "<div>\n",
       "<style scoped>\n",
       "    .dataframe tbody tr th:only-of-type {\n",
       "        vertical-align: middle;\n",
       "    }\n",
       "\n",
       "    .dataframe tbody tr th {\n",
       "        vertical-align: top;\n",
       "    }\n",
       "\n",
       "    .dataframe thead th {\n",
       "        text-align: right;\n",
       "    }\n",
       "</style>\n",
       "<table border=\"1\" class=\"dataframe\">\n",
       "  <thead>\n",
       "    <tr style=\"text-align: right;\">\n",
       "      <th></th>\n",
       "      <th>BU</th>\n",
       "      <th>RegionSeq</th>\n",
       "      <th>VP</th>\n",
       "    </tr>\n",
       "  </thead>\n",
       "  <tbody>\n",
       "    <tr>\n",
       "      <th>25</th>\n",
       "      <td>95</td>\n",
       "      <td>1-North</td>\n",
       "      <td>Scott Salman</td>\n",
       "    </tr>\n",
       "    <tr>\n",
       "      <th>26</th>\n",
       "      <td>96</td>\n",
       "      <td>4-East</td>\n",
       "      <td>Patty Gallop</td>\n",
       "    </tr>\n",
       "    <tr>\n",
       "      <th>27</th>\n",
       "      <td>97</td>\n",
       "      <td>4-East</td>\n",
       "      <td>Jim Oyama</td>\n",
       "    </tr>\n",
       "    <tr>\n",
       "      <th>28</th>\n",
       "      <td>98</td>\n",
       "      <td>4-East</td>\n",
       "      <td>Anabell Hynes</td>\n",
       "    </tr>\n",
       "    <tr>\n",
       "      <th>29</th>\n",
       "      <td>99</td>\n",
       "      <td>4-East</td>\n",
       "      <td>Brett Jones</td>\n",
       "    </tr>\n",
       "  </tbody>\n",
       "</table>\n",
       "</div>"
      ],
      "text/plain": [
       "    BU RegionSeq             VP\n",
       "25  95   1-North   Scott Salman\n",
       "26  96    4-East   Patty Gallop\n",
       "27  97    4-East      Jim Oyama\n",
       "28  98    4-East  Anabell Hynes\n",
       "29  99    4-East    Brett Jones"
      ]
     },
     "execution_count": 157,
     "metadata": {},
     "output_type": "execute_result"
    }
   ],
   "source": [
    "df_b.tail()"
   ]
  },
  {
   "cell_type": "code",
   "execution_count": 158,
   "metadata": {},
   "outputs": [
    {
     "name": "stdout",
     "output_type": "stream",
     "text": [
      "<class 'pandas.core.frame.DataFrame'>\n",
      "RangeIndex: 30 entries, 0 to 29\n",
      "Data columns (total 3 columns):\n",
      " #   Column     Non-Null Count  Dtype \n",
      "---  ------     --------------  ----- \n",
      " 0   BU         30 non-null     int64 \n",
      " 1   RegionSeq  30 non-null     object\n",
      " 2   VP         30 non-null     object\n",
      "dtypes: int64(1), object(2)\n",
      "memory usage: 848.0+ bytes\n"
     ]
    }
   ],
   "source": [
    "df_b.info()"
   ]
  },
  {
   "cell_type": "code",
   "execution_count": 159,
   "metadata": {},
   "outputs": [
    {
     "data": {
      "text/html": [
       "<div>\n",
       "<style scoped>\n",
       "    .dataframe tbody tr th:only-of-type {\n",
       "        vertical-align: middle;\n",
       "    }\n",
       "\n",
       "    .dataframe tbody tr th {\n",
       "        vertical-align: top;\n",
       "    }\n",
       "\n",
       "    .dataframe thead th {\n",
       "        text-align: right;\n",
       "    }\n",
       "</style>\n",
       "<table border=\"1\" class=\"dataframe\">\n",
       "  <thead>\n",
       "    <tr style=\"text-align: right;\">\n",
       "      <th></th>\n",
       "      <th>BU</th>\n",
       "      <th>RegionSeq</th>\n",
       "      <th>VP</th>\n",
       "    </tr>\n",
       "  </thead>\n",
       "  <tbody>\n",
       "    <tr>\n",
       "      <th>count</th>\n",
       "      <td>30.000000</td>\n",
       "      <td>30</td>\n",
       "      <td>30</td>\n",
       "    </tr>\n",
       "    <tr>\n",
       "      <th>unique</th>\n",
       "      <td>NaN</td>\n",
       "      <td>7</td>\n",
       "      <td>30</td>\n",
       "    </tr>\n",
       "    <tr>\n",
       "      <th>top</th>\n",
       "      <td>NaN</td>\n",
       "      <td>1-North</td>\n",
       "      <td>Sherley Rhymes</td>\n",
       "    </tr>\n",
       "    <tr>\n",
       "      <th>freq</th>\n",
       "      <td>NaN</td>\n",
       "      <td>6</td>\n",
       "      <td>1</td>\n",
       "    </tr>\n",
       "    <tr>\n",
       "      <th>mean</th>\n",
       "      <td>29.300000</td>\n",
       "      <td>NaN</td>\n",
       "      <td>NaN</td>\n",
       "    </tr>\n",
       "    <tr>\n",
       "      <th>std</th>\n",
       "      <td>34.758427</td>\n",
       "      <td>NaN</td>\n",
       "      <td>NaN</td>\n",
       "    </tr>\n",
       "    <tr>\n",
       "      <th>min</th>\n",
       "      <td>1.000000</td>\n",
       "      <td>NaN</td>\n",
       "      <td>NaN</td>\n",
       "    </tr>\n",
       "    <tr>\n",
       "      <th>25%</th>\n",
       "      <td>8.250000</td>\n",
       "      <td>NaN</td>\n",
       "      <td>NaN</td>\n",
       "    </tr>\n",
       "    <tr>\n",
       "      <th>50%</th>\n",
       "      <td>15.500000</td>\n",
       "      <td>NaN</td>\n",
       "      <td>NaN</td>\n",
       "    </tr>\n",
       "    <tr>\n",
       "      <th>75%</th>\n",
       "      <td>22.750000</td>\n",
       "      <td>NaN</td>\n",
       "      <td>NaN</td>\n",
       "    </tr>\n",
       "    <tr>\n",
       "      <th>max</th>\n",
       "      <td>99.000000</td>\n",
       "      <td>NaN</td>\n",
       "      <td>NaN</td>\n",
       "    </tr>\n",
       "  </tbody>\n",
       "</table>\n",
       "</div>"
      ],
      "text/plain": [
       "               BU RegionSeq              VP\n",
       "count   30.000000        30              30\n",
       "unique        NaN         7              30\n",
       "top           NaN   1-North  Sherley Rhymes\n",
       "freq          NaN         6               1\n",
       "mean    29.300000       NaN             NaN\n",
       "std     34.758427       NaN             NaN\n",
       "min      1.000000       NaN             NaN\n",
       "25%      8.250000       NaN             NaN\n",
       "50%     15.500000       NaN             NaN\n",
       "75%     22.750000       NaN             NaN\n",
       "max     99.000000       NaN             NaN"
      ]
     },
     "execution_count": 159,
     "metadata": {},
     "output_type": "execute_result"
    }
   ],
   "source": [
    "df_b.describe(include='all')"
   ]
  },
  {
   "cell_type": "code",
   "execution_count": 160,
   "metadata": {},
   "outputs": [
    {
     "name": "stdout",
     "output_type": "stream",
     "text": [
      "No.of.unique values in each column :\n",
      " BU           30\n",
      "RegionSeq     7\n",
      "VP           30\n",
      "dtype: int64\n"
     ]
    }
   ],
   "source": [
    "# Check the unique values of each row for each column\n",
    "n = df_b.nunique(axis=0)\n",
    "  \n",
    "print(\"No.of.unique values in each column :\\n\",\n",
    "      n)"
   ]
  },
  {
   "cell_type": "markdown",
   "metadata": {},
   "source": [
    "#### Observations:\n",
    "* The BU Dataset name is not very discriptive - need to change it to BusinessUnit\n",
    "* The `RegoinSeq` column can be split and added as a `Region` dimension table\n",
    "* No null values in any column"
   ]
  },
  {
   "cell_type": "markdown",
   "metadata": {},
   "source": [
    "## DATA CLEANING"
   ]
  },
  {
   "cell_type": "markdown",
   "metadata": {},
   "source": [
    "### Employee Dataset"
   ]
  },
  {
   "cell_type": "markdown",
   "metadata": {},
   "source": [
    "--- \n",
    "\n",
    "#### TermReason column\n",
    "* Replace empty rows with null\n",
    "* Convert id from `U` to `I` to represent Involuntary Termination"
   ]
  },
  {
   "cell_type": "code",
   "execution_count": 161,
   "metadata": {},
   "outputs": [
    {
     "data": {
      "text/plain": [
       "TermReason\n",
       "     1260817\n",
       "V      22048\n",
       "U       7394\n",
       "Name: count, dtype: int64"
      ]
     },
     "execution_count": 161,
     "metadata": {},
     "output_type": "execute_result"
    }
   ],
   "source": [
    "df_e['TermReason'].value_counts()"
   ]
  },
  {
   "cell_type": "code",
   "execution_count": 162,
   "metadata": {},
   "outputs": [
    {
     "data": {
      "text/plain": [
       "0"
      ]
     },
     "execution_count": 162,
     "metadata": {},
     "output_type": "execute_result"
    }
   ],
   "source": [
    "# 1260817 rows are empty\n",
    "# Verifying if empty values are represented as null\n",
    "df_e['TermReason'].isnull().sum()"
   ]
  },
  {
   "cell_type": "code",
   "execution_count": 163,
   "metadata": {},
   "outputs": [
    {
     "data": {
      "text/plain": [
       "TermReason    1260817\n",
       "dtype: int64"
      ]
     },
     "execution_count": 163,
     "metadata": {},
     "output_type": "execute_result"
    }
   ],
   "source": [
    "# Checking if the empty values in the column TermReason is representend as empty string & counting them\n",
    "df_e.loc[df_e['TermReason'] == '', ['TermReason']].count()"
   ]
  },
  {
   "cell_type": "code",
   "execution_count": 164,
   "metadata": {},
   "outputs": [],
   "source": [
    "# Cleaning\n",
    "# Replacing the empty rows with None\n",
    "df_e['TermReason'].replace('', None, inplace=True)"
   ]
  },
  {
   "cell_type": "code",
   "execution_count": 165,
   "metadata": {},
   "outputs": [
    {
     "data": {
      "text/plain": [
       "1260817"
      ]
     },
     "execution_count": 165,
     "metadata": {},
     "output_type": "execute_result"
    }
   ],
   "source": [
    "# Verifying if empty string is replaced by none/null\n",
    "df_e['TermReason'].isnull().sum()"
   ]
  },
  {
   "cell_type": "code",
   "execution_count": 166,
   "metadata": {},
   "outputs": [],
   "source": [
    "# Replacing ID U with I\n",
    "df_e['TermReason'].replace('U', 'I', inplace=True)"
   ]
  },
  {
   "cell_type": "code",
   "execution_count": 167,
   "metadata": {},
   "outputs": [
    {
     "data": {
      "text/plain": [
       "TermReason\n",
       "V    22048\n",
       "I     7394\n",
       "Name: count, dtype: int64"
      ]
     },
     "execution_count": 167,
     "metadata": {},
     "output_type": "execute_result"
    }
   ],
   "source": [
    "# Verifying Replacement\n",
    "df_e['TermReason'].value_counts()"
   ]
  },
  {
   "cell_type": "markdown",
   "metadata": {},
   "source": [
    "---\n",
    "\n",
    "#### Gender Column\n",
    "* Changing Gender codes from\n",
    "    * C to F (representing Female)\n",
    "    * D to M (representing Male)"
   ]
  },
  {
   "cell_type": "code",
   "execution_count": 168,
   "metadata": {},
   "outputs": [
    {
     "data": {
      "text/plain": [
       "Gender\n",
       "D    699620\n",
       "C    590639\n",
       "Name: count, dtype: int64"
      ]
     },
     "execution_count": 168,
     "metadata": {},
     "output_type": "execute_result"
    }
   ],
   "source": [
    "df_e['Gender'].value_counts()"
   ]
  },
  {
   "cell_type": "code",
   "execution_count": 169,
   "metadata": {},
   "outputs": [
    {
     "data": {
      "text/plain": [
       "Gender\n",
       "M    699620\n",
       "F    590639\n",
       "Name: count, dtype: int64"
      ]
     },
     "execution_count": 169,
     "metadata": {},
     "output_type": "execute_result"
    }
   ],
   "source": [
    "df_e['Gender'].replace(to_replace={'C': 'F', 'D':'M'}, inplace=True)\n",
    "df_e['Gender'].value_counts()"
   ]
  },
  {
   "cell_type": "markdown",
   "metadata": {},
   "source": [
    "---\n",
    "\n",
    "#### Date, HireDate and TermDate column \n",
    "* changing datatype"
   ]
  },
  {
   "cell_type": "code",
   "execution_count": 170,
   "metadata": {},
   "outputs": [
    {
     "data": {
      "text/plain": [
       "date        object\n",
       "TermDate    object\n",
       "HireDate    object\n",
       "dtype: object"
      ]
     },
     "execution_count": 170,
     "metadata": {},
     "output_type": "execute_result"
    }
   ],
   "source": [
    "# Data type before cleaning\n",
    "df_e.dtypes[['date', 'TermDate', 'HireDate']]"
   ]
  },
  {
   "cell_type": "code",
   "execution_count": 171,
   "metadata": {},
   "outputs": [],
   "source": [
    "df_e['date'] = pd.to_datetime(df_e['date'])\n",
    "df_e['TermDate'] = pd.to_datetime(df_e['TermDate'])\n",
    "df_e['HireDate'] = pd.to_datetime(df_e['HireDate'])"
   ]
  },
  {
   "cell_type": "code",
   "execution_count": 172,
   "metadata": {},
   "outputs": [
    {
     "data": {
      "text/plain": [
       "date        datetime64[ns]\n",
       "TermDate    datetime64[ns]\n",
       "HireDate    datetime64[ns]\n",
       "dtype: object"
      ]
     },
     "execution_count": 172,
     "metadata": {},
     "output_type": "execute_result"
    }
   ],
   "source": [
    "# Data type after cleaning\n",
    "df_e.dtypes[['date', 'TermDate', 'HireDate']]"
   ]
  },
  {
   "cell_type": "code",
   "execution_count": 173,
   "metadata": {},
   "outputs": [
    {
     "data": {
      "text/html": [
       "<div>\n",
       "<style scoped>\n",
       "    .dataframe tbody tr th:only-of-type {\n",
       "        vertical-align: middle;\n",
       "    }\n",
       "\n",
       "    .dataframe tbody tr th {\n",
       "        vertical-align: top;\n",
       "    }\n",
       "\n",
       "    .dataframe thead th {\n",
       "        text-align: right;\n",
       "    }\n",
       "</style>\n",
       "<table border=\"1\" class=\"dataframe\">\n",
       "  <thead>\n",
       "    <tr style=\"text-align: right;\">\n",
       "      <th></th>\n",
       "      <th>date</th>\n",
       "      <th>TermDate</th>\n",
       "      <th>HireDate</th>\n",
       "    </tr>\n",
       "  </thead>\n",
       "  <tbody>\n",
       "    <tr>\n",
       "      <th>0</th>\n",
       "      <td>2012-02-01</td>\n",
       "      <td>NaT</td>\n",
       "      <td>2010-10-16</td>\n",
       "    </tr>\n",
       "    <tr>\n",
       "      <th>1</th>\n",
       "      <td>2013-12-01</td>\n",
       "      <td>NaT</td>\n",
       "      <td>2012-05-09</td>\n",
       "    </tr>\n",
       "    <tr>\n",
       "      <th>2</th>\n",
       "      <td>2013-12-01</td>\n",
       "      <td>NaT</td>\n",
       "      <td>2013-08-28</td>\n",
       "    </tr>\n",
       "    <tr>\n",
       "      <th>3</th>\n",
       "      <td>2013-12-01</td>\n",
       "      <td>NaT</td>\n",
       "      <td>2013-10-24</td>\n",
       "    </tr>\n",
       "    <tr>\n",
       "      <th>4</th>\n",
       "      <td>2011-12-01</td>\n",
       "      <td>NaT</td>\n",
       "      <td>2011-05-25</td>\n",
       "    </tr>\n",
       "  </tbody>\n",
       "</table>\n",
       "</div>"
      ],
      "text/plain": [
       "        date TermDate   HireDate\n",
       "0 2012-02-01      NaT 2010-10-16\n",
       "1 2013-12-01      NaT 2012-05-09\n",
       "2 2013-12-01      NaT 2013-08-28\n",
       "3 2013-12-01      NaT 2013-10-24\n",
       "4 2011-12-01      NaT 2011-05-25"
      ]
     },
     "execution_count": 173,
     "metadata": {},
     "output_type": "execute_result"
    }
   ],
   "source": [
    "df_e[['date', 'TermDate', 'HireDate']][:5]"
   ]
  },
  {
   "cell_type": "markdown",
   "metadata": {},
   "source": [
    "---\n",
    "\n",
    "#### Rename columns:\n",
    "* BU to BusinessUnitID\n",
    "* date to Date\n",
    "* Gender to GenderID\n",
    "* EthnicGroup to EthnicGroupID \n",
    "* FP to EmploymentTypeID\n",
    "* TermReason to TermReasonID"
   ]
  },
  {
   "cell_type": "code",
   "execution_count": 174,
   "metadata": {},
   "outputs": [
    {
     "data": {
      "text/plain": [
       "Index(['date', 'EmpID', 'Gender', 'Age', 'EthnicGroup', 'FP', 'TermDate', 'BU',\n",
       "       'HireDate', 'PayTypeID', 'TermReason'],\n",
       "      dtype='object')"
      ]
     },
     "execution_count": 174,
     "metadata": {},
     "output_type": "execute_result"
    }
   ],
   "source": [
    "# Column names before\n",
    "df_e.columns"
   ]
  },
  {
   "cell_type": "code",
   "execution_count": 175,
   "metadata": {},
   "outputs": [],
   "source": [
    "# Column name dict\n",
    "col_names_new = {'BU': 'BusinessUnitID', \n",
    "                       'date': 'Date', \n",
    "                       'Gender': 'GenderID', \n",
    "                       'EthnicGroup': 'EthnicGroupID', \n",
    "                       'FP': 'EmploymentTypeID',\n",
    "                       'TermReason': 'TermReasonID'}\n",
    "# Changing column names\n",
    "df_e.rename(columns = col_names_new, inplace=True)"
   ]
  },
  {
   "cell_type": "code",
   "execution_count": 176,
   "metadata": {},
   "outputs": [
    {
     "data": {
      "text/plain": [
       "Index(['Date', 'EmpID', 'GenderID', 'Age', 'EthnicGroupID', 'EmploymentTypeID',\n",
       "       'TermDate', 'BusinessUnitID', 'HireDate', 'PayTypeID', 'TermReasonID'],\n",
       "      dtype='object')"
      ]
     },
     "execution_count": 176,
     "metadata": {},
     "output_type": "execute_result"
    }
   ],
   "source": [
    "# Column names after\n",
    "df_e.columns"
   ]
  },
  {
   "cell_type": "code",
   "execution_count": 177,
   "metadata": {},
   "outputs": [
    {
     "data": {
      "text/plain": [
       "{'Date': dtype('<M8[ns]'),\n",
       " 'EmpID': dtype('int64'),\n",
       " 'GenderID': dtype('O'),\n",
       " 'Age': dtype('int64'),\n",
       " 'EthnicGroupID': dtype('int64'),\n",
       " 'EmploymentTypeID': dtype('O'),\n",
       " 'TermDate': dtype('<M8[ns]'),\n",
       " 'BusinessUnitID': dtype('int64'),\n",
       " 'HireDate': dtype('<M8[ns]'),\n",
       " 'PayTypeID': dtype('O'),\n",
       " 'TermReasonID': dtype('O')}"
      ]
     },
     "execution_count": 177,
     "metadata": {},
     "output_type": "execute_result"
    }
   ],
   "source": [
    "df_e.dtypes.to_dict()"
   ]
  },
  {
   "cell_type": "markdown",
   "metadata": {},
   "source": [
    "### BU (Business Unit) Dataset"
   ]
  },
  {
   "cell_type": "markdown",
   "metadata": {},
   "source": [
    "---\n",
    "\n",
    "#### New Dataset Region\n",
    "\n",
    "* Splitting RegionSeq column and adding to new "
   ]
  },
  {
   "cell_type": "code",
   "execution_count": 178,
   "metadata": {},
   "outputs": [],
   "source": [
    "df_r = pd.DataFrame()\n",
    "df_r[['RegionID', 'Region']] = df_b['RegionSeq'].str.split(pat=\"-\", n=1, expand=True)"
   ]
  },
  {
   "cell_type": "code",
   "execution_count": 179,
   "metadata": {},
   "outputs": [],
   "source": [
    "df_r.drop_duplicates(keep='first', inplace=True, ignore_index=True)"
   ]
  },
  {
   "cell_type": "code",
   "execution_count": 180,
   "metadata": {},
   "outputs": [
    {
     "data": {
      "text/html": [
       "<div>\n",
       "<style scoped>\n",
       "    .dataframe tbody tr th:only-of-type {\n",
       "        vertical-align: middle;\n",
       "    }\n",
       "\n",
       "    .dataframe tbody tr th {\n",
       "        vertical-align: top;\n",
       "    }\n",
       "\n",
       "    .dataframe thead th {\n",
       "        text-align: right;\n",
       "    }\n",
       "</style>\n",
       "<table border=\"1\" class=\"dataframe\">\n",
       "  <thead>\n",
       "    <tr style=\"text-align: right;\">\n",
       "      <th></th>\n",
       "      <th>RegionID</th>\n",
       "      <th>Region</th>\n",
       "    </tr>\n",
       "  </thead>\n",
       "  <tbody>\n",
       "    <tr>\n",
       "      <th>0</th>\n",
       "      <td>1</td>\n",
       "      <td>North</td>\n",
       "    </tr>\n",
       "    <tr>\n",
       "      <th>1</th>\n",
       "      <td>2</td>\n",
       "      <td>Midwest</td>\n",
       "    </tr>\n",
       "    <tr>\n",
       "      <th>2</th>\n",
       "      <td>6</td>\n",
       "      <td>South</td>\n",
       "    </tr>\n",
       "    <tr>\n",
       "      <th>3</th>\n",
       "      <td>5</td>\n",
       "      <td>Central</td>\n",
       "    </tr>\n",
       "    <tr>\n",
       "      <th>4</th>\n",
       "      <td>3</td>\n",
       "      <td>Northwest</td>\n",
       "    </tr>\n",
       "    <tr>\n",
       "      <th>5</th>\n",
       "      <td>7</td>\n",
       "      <td>West</td>\n",
       "    </tr>\n",
       "    <tr>\n",
       "      <th>6</th>\n",
       "      <td>4</td>\n",
       "      <td>East</td>\n",
       "    </tr>\n",
       "  </tbody>\n",
       "</table>\n",
       "</div>"
      ],
      "text/plain": [
       "  RegionID     Region\n",
       "0        1      North\n",
       "1        2    Midwest\n",
       "2        6      South\n",
       "3        5    Central\n",
       "4        3  Northwest\n",
       "5        7       West\n",
       "6        4       East"
      ]
     },
     "execution_count": 180,
     "metadata": {},
     "output_type": "execute_result"
    }
   ],
   "source": [
    "df_r"
   ]
  },
  {
   "cell_type": "markdown",
   "metadata": {},
   "source": [
    "---\n",
    "\n",
    "#### RegionSeq column \n",
    "\n",
    "* Only extracting the RegionID from RegionSeq and adding to the dataset"
   ]
  },
  {
   "cell_type": "code",
   "execution_count": 181,
   "metadata": {},
   "outputs": [],
   "source": [
    "df_b['RegionID'] = df_b['RegionSeq'].str.split(pat='-', n=1).str[0]\n",
    "del df_b['RegionSeq']"
   ]
  },
  {
   "cell_type": "markdown",
   "metadata": {},
   "source": [
    "---\n",
    "\n",
    "#### BU column \n",
    "\n",
    "* Rename column to BusinessUnitID"
   ]
  },
  {
   "cell_type": "code",
   "execution_count": 182,
   "metadata": {},
   "outputs": [],
   "source": [
    "df_b.rename(columns={'BU':'BusinessUnitID'}, inplace=True)"
   ]
  },
  {
   "cell_type": "code",
   "execution_count": 183,
   "metadata": {},
   "outputs": [
    {
     "data": {
      "text/html": [
       "<div>\n",
       "<style scoped>\n",
       "    .dataframe tbody tr th:only-of-type {\n",
       "        vertical-align: middle;\n",
       "    }\n",
       "\n",
       "    .dataframe tbody tr th {\n",
       "        vertical-align: top;\n",
       "    }\n",
       "\n",
       "    .dataframe thead th {\n",
       "        text-align: right;\n",
       "    }\n",
       "</style>\n",
       "<table border=\"1\" class=\"dataframe\">\n",
       "  <thead>\n",
       "    <tr style=\"text-align: right;\">\n",
       "      <th></th>\n",
       "      <th>BusinessUnitID</th>\n",
       "      <th>VP</th>\n",
       "      <th>RegionID</th>\n",
       "    </tr>\n",
       "  </thead>\n",
       "  <tbody>\n",
       "    <tr>\n",
       "      <th>0</th>\n",
       "      <td>1</td>\n",
       "      <td>Sherley Rhymes</td>\n",
       "      <td>1</td>\n",
       "    </tr>\n",
       "    <tr>\n",
       "      <th>1</th>\n",
       "      <td>2</td>\n",
       "      <td>Dan Brown</td>\n",
       "      <td>1</td>\n",
       "    </tr>\n",
       "    <tr>\n",
       "      <th>2</th>\n",
       "      <td>3</td>\n",
       "      <td>Glennie Butters</td>\n",
       "      <td>1</td>\n",
       "    </tr>\n",
       "    <tr>\n",
       "      <th>3</th>\n",
       "      <td>4</td>\n",
       "      <td>Ruthann Lee</td>\n",
       "      <td>1</td>\n",
       "    </tr>\n",
       "    <tr>\n",
       "      <th>4</th>\n",
       "      <td>5</td>\n",
       "      <td>Reena Hentz</td>\n",
       "      <td>2</td>\n",
       "    </tr>\n",
       "    <tr>\n",
       "      <th>5</th>\n",
       "      <td>6</td>\n",
       "      <td>Aliza Fekete</td>\n",
       "      <td>2</td>\n",
       "    </tr>\n",
       "    <tr>\n",
       "      <th>6</th>\n",
       "      <td>7</td>\n",
       "      <td>Tom Benson</td>\n",
       "      <td>2</td>\n",
       "    </tr>\n",
       "    <tr>\n",
       "      <th>7</th>\n",
       "      <td>8</td>\n",
       "      <td>Brad Eagles</td>\n",
       "      <td>2</td>\n",
       "    </tr>\n",
       "    <tr>\n",
       "      <th>8</th>\n",
       "      <td>9</td>\n",
       "      <td>April Legolis</td>\n",
       "      <td>6</td>\n",
       "    </tr>\n",
       "    <tr>\n",
       "      <th>9</th>\n",
       "      <td>10</td>\n",
       "      <td>Maurine Krieger</td>\n",
       "      <td>6</td>\n",
       "    </tr>\n",
       "    <tr>\n",
       "      <th>10</th>\n",
       "      <td>11</td>\n",
       "      <td>Andrew Thompson</td>\n",
       "      <td>6</td>\n",
       "    </tr>\n",
       "    <tr>\n",
       "      <th>11</th>\n",
       "      <td>12</td>\n",
       "      <td>Miguel Shuck</td>\n",
       "      <td>6</td>\n",
       "    </tr>\n",
       "    <tr>\n",
       "      <th>12</th>\n",
       "      <td>13</td>\n",
       "      <td>Angelita Bowley</td>\n",
       "      <td>5</td>\n",
       "    </tr>\n",
       "    <tr>\n",
       "      <th>13</th>\n",
       "      <td>14</td>\n",
       "      <td>June Foster</td>\n",
       "      <td>5</td>\n",
       "    </tr>\n",
       "    <tr>\n",
       "      <th>14</th>\n",
       "      <td>15</td>\n",
       "      <td>Li Xi</td>\n",
       "      <td>5</td>\n",
       "    </tr>\n",
       "    <tr>\n",
       "      <th>15</th>\n",
       "      <td>16</td>\n",
       "      <td>Jean Shagall</td>\n",
       "      <td>5</td>\n",
       "    </tr>\n",
       "    <tr>\n",
       "      <th>16</th>\n",
       "      <td>17</td>\n",
       "      <td>Mikki Rein</td>\n",
       "      <td>3</td>\n",
       "    </tr>\n",
       "    <tr>\n",
       "      <th>17</th>\n",
       "      <td>18</td>\n",
       "      <td>Beverly Blair</td>\n",
       "      <td>3</td>\n",
       "    </tr>\n",
       "    <tr>\n",
       "      <th>18</th>\n",
       "      <td>19</td>\n",
       "      <td>Trudy Fitch</td>\n",
       "      <td>3</td>\n",
       "    </tr>\n",
       "    <tr>\n",
       "      <th>19</th>\n",
       "      <td>20</td>\n",
       "      <td>Jerri Ebron</td>\n",
       "      <td>3</td>\n",
       "    </tr>\n",
       "    <tr>\n",
       "      <th>20</th>\n",
       "      <td>21</td>\n",
       "      <td>Raquel Kaup</td>\n",
       "      <td>3</td>\n",
       "    </tr>\n",
       "    <tr>\n",
       "      <th>21</th>\n",
       "      <td>22</td>\n",
       "      <td>Li Pennywell</td>\n",
       "      <td>7</td>\n",
       "    </tr>\n",
       "    <tr>\n",
       "      <th>22</th>\n",
       "      <td>23</td>\n",
       "      <td>Dianna Mason</td>\n",
       "      <td>7</td>\n",
       "    </tr>\n",
       "    <tr>\n",
       "      <th>23</th>\n",
       "      <td>24</td>\n",
       "      <td>Rosalina Reach</td>\n",
       "      <td>7</td>\n",
       "    </tr>\n",
       "    <tr>\n",
       "      <th>24</th>\n",
       "      <td>94</td>\n",
       "      <td>Lin Batista</td>\n",
       "      <td>1</td>\n",
       "    </tr>\n",
       "    <tr>\n",
       "      <th>25</th>\n",
       "      <td>95</td>\n",
       "      <td>Scott Salman</td>\n",
       "      <td>1</td>\n",
       "    </tr>\n",
       "    <tr>\n",
       "      <th>26</th>\n",
       "      <td>96</td>\n",
       "      <td>Patty Gallop</td>\n",
       "      <td>4</td>\n",
       "    </tr>\n",
       "    <tr>\n",
       "      <th>27</th>\n",
       "      <td>97</td>\n",
       "      <td>Jim Oyama</td>\n",
       "      <td>4</td>\n",
       "    </tr>\n",
       "    <tr>\n",
       "      <th>28</th>\n",
       "      <td>98</td>\n",
       "      <td>Anabell Hynes</td>\n",
       "      <td>4</td>\n",
       "    </tr>\n",
       "    <tr>\n",
       "      <th>29</th>\n",
       "      <td>99</td>\n",
       "      <td>Brett Jones</td>\n",
       "      <td>4</td>\n",
       "    </tr>\n",
       "  </tbody>\n",
       "</table>\n",
       "</div>"
      ],
      "text/plain": [
       "    BusinessUnitID               VP RegionID\n",
       "0                1   Sherley Rhymes        1\n",
       "1                2        Dan Brown        1\n",
       "2                3  Glennie Butters        1\n",
       "3                4      Ruthann Lee        1\n",
       "4                5      Reena Hentz        2\n",
       "5                6     Aliza Fekete        2\n",
       "6                7       Tom Benson        2\n",
       "7                8      Brad Eagles        2\n",
       "8                9    April Legolis        6\n",
       "9               10  Maurine Krieger        6\n",
       "10              11  Andrew Thompson        6\n",
       "11              12     Miguel Shuck        6\n",
       "12              13  Angelita Bowley        5\n",
       "13              14      June Foster        5\n",
       "14              15            Li Xi        5\n",
       "15              16     Jean Shagall        5\n",
       "16              17       Mikki Rein        3\n",
       "17              18    Beverly Blair        3\n",
       "18              19      Trudy Fitch        3\n",
       "19              20      Jerri Ebron        3\n",
       "20              21      Raquel Kaup        3\n",
       "21              22     Li Pennywell        7\n",
       "22              23     Dianna Mason        7\n",
       "23              24   Rosalina Reach        7\n",
       "24              94      Lin Batista        1\n",
       "25              95     Scott Salman        1\n",
       "26              96     Patty Gallop        4\n",
       "27              97        Jim Oyama        4\n",
       "28              98    Anabell Hynes        4\n",
       "29              99      Brett Jones        4"
      ]
     },
     "execution_count": 183,
     "metadata": {},
     "output_type": "execute_result"
    }
   ],
   "source": [
    "df_b"
   ]
  },
  {
   "cell_type": "markdown",
   "metadata": {},
   "source": [
    "## LOAD\n",
    "* Write clean data to MySql Database"
   ]
  },
  {
   "cell_type": "markdown",
   "metadata": {},
   "source": [
    "---\n",
    "\n",
    "### Create table in the DB"
   ]
  },
  {
   "cell_type": "markdown",
   "metadata": {},
   "source": [
    "#### Employee Dataset"
   ]
  },
  {
   "cell_type": "code",
   "execution_count": 184,
   "metadata": {},
   "outputs": [],
   "source": [
    "# Creating a connection\n",
    "\n",
    "conn = mysql.connector.connect(host=host,\n",
    "                              user=user,\n",
    "                              password=password,\n",
    "                              database=database,\n",
    "                              auth_plugin='mysql_native_password')\n",
    "mycursor = conn.cursor()"
   ]
  },
  {
   "cell_type": "code",
   "execution_count": 185,
   "metadata": {},
   "outputs": [],
   "source": [
    "# Create table to store clean data\n",
    "query_drop_table = \"drop table if exists Employee\"\n",
    "query_create_table = \"CREATE TABLE Employee \\\n",
    "                                            (Date date, \\\n",
    "                                            EmpID integer, \\\n",
    "                                            GenderID char(1), \\\n",
    "                                            Age integer, \\\n",
    "                                            EthnicGroupID char(1), \\\n",
    "                                            EmploymentTypeID char(1), \\\n",
    "                                            TermDate date, \\\n",
    "                                            BusinessUnitID integer, \\\n",
    "                                            HireDate date, \\\n",
    "                                            PayTypeID char(1), \\\n",
    "                                            TermReasonID char(1))\"\n",
    "\n",
    "mycursor.execute(query_drop_table)\n",
    "mycursor.execute(query_create_table)\n",
    "#, Primary Key (EmpID, Date), foreign key (BusinessUnitID) references BusinessUnit (BusinessUnitID)\n",
    "\n",
    "# commit the query\n",
    "conn.commit()\n",
    "# mycursor.close()\n",
    "# conn.close()"
   ]
  },
  {
   "cell_type": "markdown",
   "metadata": {},
   "source": [
    "#### BU (Business Unit) Dataset"
   ]
  },
  {
   "cell_type": "code",
   "execution_count": 186,
   "metadata": {},
   "outputs": [],
   "source": [
    "query_drop_table = \"drop table if exists BusinessUnit\"\n",
    "query_create_table = \"CREATE TABLE BusinessUnit \\\n",
    "                                            (BusinessUnitID integer, \\\n",
    "                                            VP varchar(100), \\\n",
    "                                            RegionID integer)\"\n",
    "\n",
    "mycursor = conn.cursor()\n",
    "mycursor.execute(query_drop_table)\n",
    "mycursor.execute(query_create_table)\n",
    "#,foreign key (RegionID) references Region (RegionID)\n",
    "# commit the query\n",
    "conn.commit()"
   ]
  },
  {
   "cell_type": "markdown",
   "metadata": {},
   "source": [
    "#### Region Dataset"
   ]
  },
  {
   "cell_type": "code",
   "execution_count": 187,
   "metadata": {},
   "outputs": [],
   "source": [
    "query_drop_table = \"drop table if exists Region\"\n",
    "query_create_table = \"CREATE TABLE Region \\\n",
    "                                            (RegionID integer, \\\n",
    "                                            Region varchar(100), \\\n",
    "                                            Primary Key (RegionID))\"\n",
    "\n",
    "mycursor = conn.cursor()\n",
    "mycursor.execute(query_drop_table)\n",
    "mycursor.execute(query_create_table)\n",
    "\n",
    "# commit the query\n",
    "conn.commit()"
   ]
  },
  {
   "cell_type": "markdown",
   "metadata": {},
   "source": [
    "---\n",
    "\n",
    "### Write Dataframe to DB\n",
    "We use SQLAlchemy to write the dataframe to the table"
   ]
  },
  {
   "cell_type": "markdown",
   "metadata": {},
   "source": [
    "#### Employee Dataset"
   ]
  },
  {
   "cell_type": "code",
   "execution_count": 188,
   "metadata": {},
   "outputs": [],
   "source": [
    "# to write to My_Sql\n",
    "import sqlalchemy as sq\n",
    "from urllib.parse import quote_plus\n",
    "\n",
    "connection_string = f\"mysql+mysqlconnector://{user}:%s@{host}/{database}\" % quote_plus(password)\n",
    "\n",
    "engine = sq.create_engine(connection_string, echo=False)\n",
    "conn_al = engine.connect()"
   ]
  },
  {
   "cell_type": "code",
   "execution_count": 189,
   "metadata": {},
   "outputs": [
    {
     "data": {
      "text/plain": [
       "1290259"
      ]
     },
     "execution_count": 189,
     "metadata": {},
     "output_type": "execute_result"
    }
   ],
   "source": [
    "schema_df_e = {\n",
    "             'Date': sq.Date(),\n",
    "             'EmpID': sq.types.INTEGER(),\n",
    "             'GenderID': sq.types.CHAR(1),\n",
    "             'Age': sq.types.INTEGER(),\n",
    "             'EthnicGroupID': sq.types.CHAR(1),\n",
    "             'EmploymentTypeID': sq.types.CHAR(1),\n",
    "             'TermDate': sq.Date(),\n",
    "             'BusinessUnitID':sq.types.INTEGER(),\n",
    "             'HireDate': sq.Date(),\n",
    "             'PayTypeID': sq.types.CHAR(1),\n",
    "             'TermReasonID': sq.types.CHAR(1)\n",
    "}\n",
    "\n",
    "df_e.to_sql('employee', con=conn_al, if_exists='replace', index=False, dtype= schema_df_e, chunksize=2000)\n"
   ]
  },
  {
   "cell_type": "markdown",
   "metadata": {},
   "source": [
    "#### Region Dataset"
   ]
  },
  {
   "cell_type": "code",
   "execution_count": 190,
   "metadata": {},
   "outputs": [
    {
     "data": {
      "text/plain": [
       "7"
      ]
     },
     "execution_count": 190,
     "metadata": {},
     "output_type": "execute_result"
    }
   ],
   "source": [
    "schema_df_r = {\n",
    "             'RegionID': sq.types.INTEGER(),\n",
    "              'Region': sq.types.VARCHAR(100)\n",
    "}\n",
    "\n",
    "df_r.to_sql('region', con=conn_al, if_exists='replace', index=False, dtype= schema_df_r, chunksize=2000)\n"
   ]
  },
  {
   "cell_type": "markdown",
   "metadata": {},
   "source": [
    "#### BU (Business Unit) Dataset"
   ]
  },
  {
   "cell_type": "code",
   "execution_count": 191,
   "metadata": {},
   "outputs": [],
   "source": [
    "schema_df_b = {\n",
    "             'BusinessUnitID':sq.types.INTEGER(),\n",
    "             'VP': sq.types.VARCHAR(100),\n",
    "             'RegionID': sq.types.INTEGER()\n",
    "}\n",
    "\n",
    "df_b.to_sql('businessunit', con=conn_al, if_exists='replace', index=False, dtype= schema_df_b, chunksize=2000)\n",
    "conn_al.close()"
   ]
  },
  {
   "cell_type": "markdown",
   "metadata": {},
   "source": [
    "### Add Primary & Foreign Keys\n"
   ]
  },
  {
   "cell_type": "code",
   "execution_count": 192,
   "metadata": {},
   "outputs": [],
   "source": [
    "# Region Table\n",
    "query_alter_r = \"ALTER TABLE region \\\n",
    "                                 ADD PRIMARY KEY (RegionID);\""
   ]
  },
  {
   "cell_type": "code",
   "execution_count": 193,
   "metadata": {},
   "outputs": [],
   "source": [
    "# BusinessUnit Table\n",
    "query_alter_bu = \"ALTER TABLE businessunit \\\n",
    "                                 ADD PRIMARY KEY (BusinessUnitID), \\\n",
    "                                 ADD FOREIGN KEY (RegionID) \\\n",
    "                                 REFERENCES Region(RegionID);\""
   ]
  },
  {
   "cell_type": "code",
   "execution_count": 194,
   "metadata": {},
   "outputs": [],
   "source": [
    "# Employee Table\n",
    "query_alter_emp = \"ALTER TABLE employee \\\n",
    "                                 ADD FOREIGN KEY (BusinessUnitID) \\\n",
    "                                 REFERENCES BusinessUnit(BusinessUnitID);\"\n"
   ]
  },
  {
   "cell_type": "code",
   "execution_count": 195,
   "metadata": {},
   "outputs": [],
   "source": [
    "mycursor = conn.cursor()\n",
    "mycursor.execute(query_alter_r)\n",
    "mycursor.execute(query_alter_bu)\n",
    "mycursor.execute(query_alter_emp)\n",
    "\n",
    "# commit the query\n",
    "conn.commit()\n",
    "conn.close()"
   ]
  },
  {
   "cell_type": "markdown",
   "metadata": {},
   "source": [
    "## Testing"
   ]
  },
  {
   "cell_type": "code",
   "execution_count": 196,
   "metadata": {},
   "outputs": [
    {
     "data": {
      "text/html": [
       "<div>\n",
       "<style scoped>\n",
       "    .dataframe tbody tr th:only-of-type {\n",
       "        vertical-align: middle;\n",
       "    }\n",
       "\n",
       "    .dataframe tbody tr th {\n",
       "        vertical-align: top;\n",
       "    }\n",
       "\n",
       "    .dataframe thead th {\n",
       "        text-align: right;\n",
       "    }\n",
       "</style>\n",
       "<table border=\"1\" class=\"dataframe\">\n",
       "  <thead>\n",
       "    <tr style=\"text-align: right;\">\n",
       "      <th></th>\n",
       "      <th>Date</th>\n",
       "      <th>EmpID</th>\n",
       "      <th>GenderID</th>\n",
       "      <th>Age</th>\n",
       "      <th>EthnicGroupID</th>\n",
       "      <th>EmploymentTypeID</th>\n",
       "      <th>TermDate</th>\n",
       "      <th>BusinessUnitID</th>\n",
       "      <th>HireDate</th>\n",
       "      <th>PayTypeID</th>\n",
       "      <th>TermReasonID</th>\n",
       "    </tr>\n",
       "  </thead>\n",
       "  <tbody>\n",
       "    <tr>\n",
       "      <th>1246315</th>\n",
       "      <td>2013-12-01</td>\n",
       "      <td>15444</td>\n",
       "      <td>F</td>\n",
       "      <td>20</td>\n",
       "      <td>6</td>\n",
       "      <td>P</td>\n",
       "      <td>NaT</td>\n",
       "      <td>23</td>\n",
       "      <td>2013-12-18</td>\n",
       "      <td>H</td>\n",
       "      <td>None</td>\n",
       "    </tr>\n",
       "    <tr>\n",
       "      <th>1261493</th>\n",
       "      <td>2013-12-01</td>\n",
       "      <td>15444</td>\n",
       "      <td>F</td>\n",
       "      <td>20</td>\n",
       "      <td>6</td>\n",
       "      <td>P</td>\n",
       "      <td>2013-12-31</td>\n",
       "      <td>23</td>\n",
       "      <td>2013-12-18</td>\n",
       "      <td>H</td>\n",
       "      <td>V</td>\n",
       "    </tr>\n",
       "  </tbody>\n",
       "</table>\n",
       "</div>"
      ],
      "text/plain": [
       "              Date  EmpID GenderID  Age  EthnicGroupID EmploymentTypeID  \\\n",
       "1246315 2013-12-01  15444        F   20              6                P   \n",
       "1261493 2013-12-01  15444        F   20              6                P   \n",
       "\n",
       "          TermDate  BusinessUnitID   HireDate PayTypeID TermReasonID  \n",
       "1246315        NaT              23 2013-12-18         H         None  \n",
       "1261493 2013-12-31              23 2013-12-18         H            V  "
      ]
     },
     "execution_count": 196,
     "metadata": {},
     "output_type": "execute_result"
    }
   ],
   "source": [
    "df_e.loc[df_e['EmpID']==15444]"
   ]
  },
  {
   "cell_type": "code",
   "execution_count": 66,
   "metadata": {},
   "outputs": [
    {
     "data": {
      "text/plain": [
       "1260817"
      ]
     },
     "execution_count": 66,
     "metadata": {},
     "output_type": "execute_result"
    }
   ],
   "source": [
    "df_e['TermDate'].isnull().sum()"
   ]
  }
 ],
 "metadata": {
  "kernelspec": {
   "display_name": "conda-myenv-kernel-new",
   "language": "python",
   "name": "conda-myenv-kernel-new"
  },
  "language_info": {
   "codemirror_mode": {
    "name": "ipython",
    "version": 3
   },
   "file_extension": ".py",
   "mimetype": "text/x-python",
   "name": "python",
   "nbconvert_exporter": "python",
   "pygments_lexer": "ipython3",
   "version": "3.10.9"
  }
 },
 "nbformat": 4,
 "nbformat_minor": 2
}
